{
 "cells": [
  {
   "cell_type": "markdown",
   "id": "820b7c1a",
   "metadata": {},
   "source": [
    "#### Group Number : 211\n",
    "#### Group Members :\n",
    "                     Akash Dixit  (2020SC04887)\n",
    "                     Rashmi Singh (2020SC04929)\n",
    "                     Parul Jain   (2020SC04573)\n",
    "#### Assignment Dataset : iris Data"
   ]
  },
  {
   "cell_type": "markdown",
   "id": "b7c3ae68",
   "metadata": {},
   "source": [
    "# Data preprocessing\n",
    "# importing the Libraries"
   ]
  },
  {
   "cell_type": "code",
   "execution_count": 1,
   "id": "02869cfc",
   "metadata": {},
   "outputs": [],
   "source": [
    "import math\n",
    "from pprint import pprint\n",
    "from matplotlib import pyplot as plt\n",
    "import pandas as pd\n",
    "import numpy as np\n",
    "import seaborn as sns\n",
    "from sklearn import model_selection\n",
    "from sklearn.preprocessing import MinMaxScaler\n",
    "from sklearn.preprocessing import StandardScaler  \n",
    "from sklearn.metrics import classification_report\n",
    "from sklearn.metrics import confusion_matrix\n",
    "from sklearn.metrics import accuracy_score\n",
    "from sklearn.neighbors import KNeighborsClassifier\n",
    "import operator\n",
    "import warnings\n",
    "warnings.filterwarnings('ignore')"
   ]
  },
  {
   "cell_type": "markdown",
   "id": "7e62dbb6",
   "metadata": {},
   "source": [
    "# 1. Load the dataset and describe it."
   ]
  },
  {
   "cell_type": "code",
   "execution_count": 2,
   "id": "a68ff915",
   "metadata": {},
   "outputs": [
    {
     "data": {
      "text/html": [
       "<div>\n",
       "<style scoped>\n",
       "    .dataframe tbody tr th:only-of-type {\n",
       "        vertical-align: middle;\n",
       "    }\n",
       "\n",
       "    .dataframe tbody tr th {\n",
       "        vertical-align: top;\n",
       "    }\n",
       "\n",
       "    .dataframe thead th {\n",
       "        text-align: right;\n",
       "    }\n",
       "</style>\n",
       "<table border=\"1\" class=\"dataframe\">\n",
       "  <thead>\n",
       "    <tr style=\"text-align: right;\">\n",
       "      <th></th>\n",
       "      <th>sepal_len</th>\n",
       "      <th>sepal_width</th>\n",
       "      <th>petal_len</th>\n",
       "      <th>petal_width</th>\n",
       "      <th>class</th>\n",
       "    </tr>\n",
       "  </thead>\n",
       "  <tbody>\n",
       "    <tr>\n",
       "      <th>0</th>\n",
       "      <td>5.1</td>\n",
       "      <td>3.5</td>\n",
       "      <td>1.4</td>\n",
       "      <td>0.2</td>\n",
       "      <td>Iris-setosa</td>\n",
       "    </tr>\n",
       "    <tr>\n",
       "      <th>1</th>\n",
       "      <td>4.9</td>\n",
       "      <td>3.0</td>\n",
       "      <td>1.4</td>\n",
       "      <td>0.2</td>\n",
       "      <td>Iris-setosa</td>\n",
       "    </tr>\n",
       "    <tr>\n",
       "      <th>2</th>\n",
       "      <td>4.7</td>\n",
       "      <td>3.2</td>\n",
       "      <td>1.3</td>\n",
       "      <td>0.2</td>\n",
       "      <td>Iris-setosa</td>\n",
       "    </tr>\n",
       "    <tr>\n",
       "      <th>3</th>\n",
       "      <td>4.6</td>\n",
       "      <td>3.1</td>\n",
       "      <td>1.5</td>\n",
       "      <td>0.2</td>\n",
       "      <td>Iris-setosa</td>\n",
       "    </tr>\n",
       "    <tr>\n",
       "      <th>4</th>\n",
       "      <td>5.0</td>\n",
       "      <td>3.6</td>\n",
       "      <td>1.4</td>\n",
       "      <td>0.2</td>\n",
       "      <td>Iris-setosa</td>\n",
       "    </tr>\n",
       "  </tbody>\n",
       "</table>\n",
       "</div>"
      ],
      "text/plain": [
       "   sepal_len  sepal_width  petal_len  petal_width        class\n",
       "0        5.1          3.5        1.4          0.2  Iris-setosa\n",
       "1        4.9          3.0        1.4          0.2  Iris-setosa\n",
       "2        4.7          3.2        1.3          0.2  Iris-setosa\n",
       "3        4.6          3.1        1.5          0.2  Iris-setosa\n",
       "4        5.0          3.6        1.4          0.2  Iris-setosa"
      ]
     },
     "execution_count": 2,
     "metadata": {},
     "output_type": "execute_result"
    }
   ],
   "source": [
    "file_columns = ['sepal_len','sepal_width','petal_len','petal_width','class']\n",
    "data = pd.read_csv('iris.csv',header=None, names=file_columns)\n",
    "data.head()"
   ]
  },
  {
   "cell_type": "markdown",
   "id": "d2b03c68",
   "metadata": {},
   "source": [
    "Shuffle the data\n",
    "To prevent bias in learning, we shuffle the data before dividing it into trainning and testing set."
   ]
  },
  {
   "cell_type": "code",
   "execution_count": 3,
   "id": "1e65f7bf",
   "metadata": {},
   "outputs": [
    {
     "data": {
      "text/html": [
       "<div>\n",
       "<style scoped>\n",
       "    .dataframe tbody tr th:only-of-type {\n",
       "        vertical-align: middle;\n",
       "    }\n",
       "\n",
       "    .dataframe tbody tr th {\n",
       "        vertical-align: top;\n",
       "    }\n",
       "\n",
       "    .dataframe thead th {\n",
       "        text-align: right;\n",
       "    }\n",
       "</style>\n",
       "<table border=\"1\" class=\"dataframe\">\n",
       "  <thead>\n",
       "    <tr style=\"text-align: right;\">\n",
       "      <th></th>\n",
       "      <th>sepal_len</th>\n",
       "      <th>sepal_width</th>\n",
       "      <th>petal_len</th>\n",
       "      <th>petal_width</th>\n",
       "      <th>class</th>\n",
       "      <th>seq</th>\n",
       "    </tr>\n",
       "  </thead>\n",
       "  <tbody>\n",
       "    <tr>\n",
       "      <th>0</th>\n",
       "      <td>6.3</td>\n",
       "      <td>2.3</td>\n",
       "      <td>4.4</td>\n",
       "      <td>1.3</td>\n",
       "      <td>Iris-versicolor</td>\n",
       "      <td>0</td>\n",
       "    </tr>\n",
       "    <tr>\n",
       "      <th>1</th>\n",
       "      <td>5.0</td>\n",
       "      <td>3.0</td>\n",
       "      <td>1.6</td>\n",
       "      <td>0.2</td>\n",
       "      <td>Iris-setosa</td>\n",
       "      <td>1</td>\n",
       "    </tr>\n",
       "    <tr>\n",
       "      <th>2</th>\n",
       "      <td>5.4</td>\n",
       "      <td>3.7</td>\n",
       "      <td>1.5</td>\n",
       "      <td>0.2</td>\n",
       "      <td>Iris-setosa</td>\n",
       "      <td>2</td>\n",
       "    </tr>\n",
       "    <tr>\n",
       "      <th>3</th>\n",
       "      <td>5.0</td>\n",
       "      <td>3.5</td>\n",
       "      <td>1.6</td>\n",
       "      <td>0.6</td>\n",
       "      <td>Iris-setosa</td>\n",
       "      <td>3</td>\n",
       "    </tr>\n",
       "    <tr>\n",
       "      <th>4</th>\n",
       "      <td>5.7</td>\n",
       "      <td>2.8</td>\n",
       "      <td>4.1</td>\n",
       "      <td>1.3</td>\n",
       "      <td>Iris-versicolor</td>\n",
       "      <td>4</td>\n",
       "    </tr>\n",
       "  </tbody>\n",
       "</table>\n",
       "</div>"
      ],
      "text/plain": [
       "   sepal_len  sepal_width  petal_len  petal_width            class  seq\n",
       "0        6.3          2.3        4.4          1.3  Iris-versicolor    0\n",
       "1        5.0          3.0        1.6          0.2      Iris-setosa    1\n",
       "2        5.4          3.7        1.5          0.2      Iris-setosa    2\n",
       "3        5.0          3.5        1.6          0.6      Iris-setosa    3\n",
       "4        5.7          2.8        4.1          1.3  Iris-versicolor    4"
      ]
     },
     "execution_count": 3,
     "metadata": {},
     "output_type": "execute_result"
    }
   ],
   "source": [
    "data = data.sample(frac=1).reset_index(drop=True)\n",
    "data['seq'] = data.index\n",
    "data.head()"
   ]
  },
  {
   "cell_type": "markdown",
   "id": "0472439f",
   "metadata": {},
   "source": [
    "# 2. Split the data as per 80:20 ratios of training and test set."
   ]
  },
  {
   "cell_type": "code",
   "execution_count": 4,
   "id": "06c6f284",
   "metadata": {},
   "outputs": [
    {
     "name": "stdout",
     "output_type": "stream",
     "text": [
      "Train Set:\n",
      "      sepal_len  sepal_width  petal_len  petal_width            class  seq\n",
      "0          6.3          2.3        4.4          1.3  Iris-versicolor    0\n",
      "130        6.1          2.6        5.6          1.4   Iris-virginica  130\n",
      "94         5.6          2.9        3.6          1.3  Iris-versicolor   94\n",
      "124        5.1          3.5        1.4          0.2      Iris-setosa  124\n",
      "144        4.8          3.0        1.4          0.1      Iris-setosa  144\n",
      "..         ...          ...        ...          ...              ...  ...\n",
      "17         4.9          2.4        3.3          1.0  Iris-versicolor   17\n",
      "99         5.7          2.6        3.5          1.0  Iris-versicolor   99\n",
      "9          7.6          3.0        6.6          2.1   Iris-virginica    9\n",
      "54         7.2          3.6        6.1          2.5   Iris-virginica   54\n",
      "24         6.4          2.8        5.6          2.2   Iris-virginica   24\n",
      "\n",
      "[120 rows x 6 columns] \n",
      "\n",
      "Test Set:\n",
      "      sepal_len  sepal_width  petal_len  petal_width            class  seq\n",
      "62         6.9          3.1        5.4          2.1   Iris-virginica   62\n",
      "132        4.4          2.9        1.4          0.2      Iris-setosa  132\n",
      "137        5.7          2.9        4.2          1.3  Iris-versicolor  137\n",
      "138        7.2          3.2        6.0          1.8   Iris-virginica  138\n",
      "40         5.8          2.7        5.1          1.9   Iris-virginica   40\n",
      "55         6.3          2.7        4.9          1.8   Iris-virginica   55\n",
      "37         6.3          2.9        5.6          1.8   Iris-virginica   37\n",
      "3          5.0          3.5        1.6          0.6      Iris-setosa    3\n",
      "147        5.9          3.2        4.8          1.8  Iris-versicolor  147\n",
      "86         6.4          2.7        5.3          1.9   Iris-virginica   86\n",
      "2          5.4          3.7        1.5          0.2      Iris-setosa    2\n",
      "97         5.1          3.5        1.4          0.3      Iris-setosa   97\n",
      "50         6.3          3.3        6.0          2.5   Iris-virginica   50\n",
      "125        4.4          3.2        1.3          0.2      Iris-setosa  125\n",
      "84         6.6          3.0        4.4          1.4  Iris-versicolor   84\n",
      "133        6.6          2.9        4.6          1.3  Iris-versicolor  133\n",
      "143        6.3          2.8        5.1          1.5   Iris-virginica  143\n",
      "5          5.7          3.8        1.7          0.3      Iris-setosa    5\n",
      "23         5.6          2.7        4.2          1.3  Iris-versicolor   23\n",
      "93         5.9          3.0        5.1          1.8   Iris-virginica   93\n",
      "27         6.7          3.0        5.2          2.3   Iris-virginica   27\n",
      "105        6.4          3.1        5.5          1.8   Iris-virginica  105\n",
      "119        6.3          3.3        4.7          1.6  Iris-versicolor  119\n",
      "8          6.0          2.2        4.0          1.0  Iris-versicolor    8\n",
      "134        6.7          2.5        5.8          1.8   Iris-virginica  134\n",
      "135        5.0          3.3        1.4          0.2      Iris-setosa  135\n",
      "35         4.8          3.0        1.4          0.3      Iris-setosa   35\n",
      "43         5.0          3.2        1.2          0.2      Iris-setosa   43\n",
      "136        6.0          3.0        4.8          1.8   Iris-virginica  136\n",
      "66         6.4          3.2        5.3          2.3   Iris-virginica   66\n"
     ]
    }
   ],
   "source": [
    "#randomize the indices\n",
    "indices = np.random.permutation(data.shape[0])\n",
    "div = int(0.80 * len(indices))\n",
    "train_id, test_id = indices[:div], indices[div:]\n",
    "\n",
    "#dividing the dataset using randomized indices\n",
    "train_set, test_set = data.loc[train_id,:], data.loc[test_id,:]\n",
    "print(\"Train Set:\\n\", train_set, \"\\n\\nTest Set:\\n\", test_set)\n",
    "\n",
    "mean_train_set = train_set.mean()\n",
    "mean_test_set = test_set.mean()\n",
    "std_train_set = train_set.std()\n",
    "std_test_set = test_set.std()"
   ]
  },
  {
   "cell_type": "markdown",
   "id": "711eb1c8",
   "metadata": {},
   "source": [
    "# 3. Normalize the dataset. Visualize the dataset before and after normalization."
   ]
  },
  {
   "cell_type": "markdown",
   "id": "2392222b",
   "metadata": {},
   "source": [
    "## Some General Visualization"
   ]
  },
  {
   "cell_type": "code",
   "execution_count": 5,
   "id": "42f50380",
   "metadata": {},
   "outputs": [
    {
     "data": {
      "image/png": "[encoded data removed]",
      "text/plain": [
       "<Figure size 720x432 with 1 Axes>"
      ]
     },
     "metadata": {
      "needs_background": "light"
     },
     "output_type": "display_data"
    }
   ],
   "source": [
    "fig = data[data['class']=='Iris-setosa'].plot(kind='scatter',x='sepal_len',y='sepal_width',color='orange', label='Setosa')\n",
    "data[data['class']=='Iris-versicolor'].plot(kind='scatter',x='sepal_len',y='sepal_width',color='blue', label='versicolor',ax=fig)\n",
    "data[data['class']=='Iris-virginica'].plot(kind='scatter',x='sepal_len',y='sepal_width',color='green', label='virginica', ax=fig)\n",
    "fig.set_xlabel(\"Sepal Length\")\n",
    "fig.set_ylabel(\"Sepal Width\")\n",
    "fig.set_title(\"Sepal Length VS Width\")\n",
    "fig=plt.gcf()\n",
    "fig.set_size_inches(10,6)\n",
    "plt.show()"
   ]
  },
  {
   "cell_type": "code",
   "execution_count": 6,
   "id": "1c8b49a3",
   "metadata": {},
   "outputs": [
    {
     "data": {
      "image/png": "[encoded data removed]",
      "text/plain": [
       "<Figure size 720x432 with 1 Axes>"
      ]
     },
     "metadata": {
      "needs_background": "light"
     },
     "output_type": "display_data"
    }
   ],
   "source": [
    "fig = data[data['class']=='Iris-setosa'].plot.scatter(x='petal_len',y='petal_width',color='orange', label='Setosa')\n",
    "data[data['class']=='Iris-versicolor'].plot.scatter(x='petal_len',y='petal_width',color='blue', label='versicolor',ax=fig)\n",
    "data[data['class']=='Iris-virginica'].plot.scatter(x='petal_len',y='petal_width',color='green', label='virginica', ax=fig)\n",
    "fig.set_xlabel(\"Petal Length\")\n",
    "fig.set_ylabel(\"Petal Width\")\n",
    "fig.set_title(\" Petal Length VS Width\")\n",
    "fig=plt.gcf()\n",
    "fig.set_size_inches(10,6)\n",
    "plt.show()"
   ]
  },
  {
   "cell_type": "code",
   "execution_count": 7,
   "id": "3d0de544",
   "metadata": {},
   "outputs": [
    {
     "data": {
      "image/png": "[encoded data removed]",
      "text/plain": [
       "<Figure size 864x720 with 6 Axes>"
      ]
     },
     "metadata": {
      "needs_background": "light"
     },
     "output_type": "display_data"
    }
   ],
   "source": [
    "data.hist(edgecolor='black', linewidth=1.2)\n",
    "fig=plt.gcf()\n",
    "fig.set_size_inches(12,10)\n",
    "plt.show()"
   ]
  },
  {
   "cell_type": "code",
   "execution_count": 8,
   "id": "5cb361d6",
   "metadata": {},
   "outputs": [
    {
     "data": {
      "text/plain": [
       "<AxesSubplot:xlabel='class', ylabel='sepal_width'>"
      ]
     },
     "execution_count": 8,
     "metadata": {},
     "output_type": "execute_result"
    },
    {
     "data": {
      "image/png": "[encoded data removed]",
      "text/plain": [
       "<Figure size 1080x720 with 4 Axes>"
      ]
     },
     "metadata": {
      "needs_background": "light"
     },
     "output_type": "display_data"
    }
   ],
   "source": [
    "plt.figure(figsize=(15,10))\n",
    "plt.subplot(2,2,1)\n",
    "sns.violinplot(x='class',y='petal_len',data=data)\n",
    "plt.subplot(2,2,2)\n",
    "sns.violinplot(x='class',y='petal_width',data=data)\n",
    "plt.subplot(2,2,3)\n",
    "sns.violinplot(x='class',y='sepal_len',data=data)\n",
    "plt.subplot(2,2,4)\n",
    "sns.violinplot(x='class',y='sepal_width',data=data)"
   ]
  },
  {
   "cell_type": "markdown",
   "id": "22f9ffa7",
   "metadata": {},
   "source": [
    "## Data Visulization before Normalization"
   ]
  },
  {
   "cell_type": "code",
   "execution_count": 9,
   "id": "595a5f37",
   "metadata": {
    "scrolled": false
   },
   "outputs": [
    {
     "data": {
      "text/plain": [
       "<AxesSubplot:xlabel='petal_width', ylabel='Density'>"
      ]
     },
     "execution_count": 9,
     "metadata": {},
     "output_type": "execute_result"
    },
    {
     "data": {
      "image/png": "[encoded data removed]",
      "text/plain": [
       "<Figure size 1080x720 with 4 Axes>"
      ]
     },
     "metadata": {
      "needs_background": "light"
     },
     "output_type": "display_data"
    }
   ],
   "source": [
    "plt.figure(figsize=(15,10))\n",
    "plt.subplot(2,2,1)\n",
    "sns.distplot(data['sepal_len'])\n",
    "plt.subplot(2,2,2)\n",
    "sns.distplot(data['sepal_width'])\n",
    "plt.subplot(2,2,3)\n",
    "sns.distplot(data['petal_len'])\n",
    "plt.subplot(2,2,4)\n",
    "sns.distplot(data['petal_width'])"
   ]
  },
  {
   "cell_type": "markdown",
   "id": "0da46df8",
   "metadata": {},
   "source": [
    "# Applying Normalization"
   ]
  },
  {
   "cell_type": "code",
   "execution_count": 10,
   "id": "3f39f69a",
   "metadata": {},
   "outputs": [],
   "source": [
    "x_data = data[['sepal_len','sepal_width','petal_len','petal_width']]"
   ]
  },
  {
   "cell_type": "code",
   "execution_count": 11,
   "id": "de8d6abb",
   "metadata": {},
   "outputs": [
    {
     "data": {
      "text/plain": [
       "array([[0.55555556, 0.125     , 0.57627119, 0.5       ],\n",
       "       [0.19444444, 0.41666667, 0.10169492, 0.04166667],\n",
       "       [0.30555556, 0.70833333, 0.08474576, 0.04166667],\n",
       "       [0.19444444, 0.625     , 0.10169492, 0.20833333],\n",
       "       [0.38888889, 0.33333333, 0.52542373, 0.5       ],\n",
       "       [0.38888889, 0.75      , 0.11864407, 0.08333333],\n",
       "       [0.94444444, 0.33333333, 0.96610169, 0.79166667],\n",
       "       [0.5       , 0.41666667, 0.61016949, 0.54166667],\n",
       "       [0.47222222, 0.08333333, 0.50847458, 0.375     ],\n",
       "       [0.91666667, 0.41666667, 0.94915254, 0.83333333],\n",
       "       [0.66666667, 0.54166667, 0.79661017, 1.        ],\n",
       "       [0.33333333, 0.16666667, 0.45762712, 0.375     ],\n",
       "       [0.05555556, 0.125     , 0.05084746, 0.08333333],\n",
       "       [0.55555556, 0.58333333, 0.77966102, 0.95833333],\n",
       "       [0.30555556, 0.79166667, 0.05084746, 0.125     ],\n",
       "       [0.25      , 0.29166667, 0.49152542, 0.54166667],\n",
       "       [0.36111111, 0.41666667, 0.59322034, 0.58333333],\n",
       "       [0.16666667, 0.16666667, 0.38983051, 0.375     ],\n",
       "       [0.38888889, 0.41666667, 0.54237288, 0.45833333],\n",
       "       [0.58333333, 0.375     , 0.55932203, 0.5       ],\n",
       "       [0.19444444, 0.58333333, 0.08474576, 0.04166667],\n",
       "       [0.36111111, 0.41666667, 0.52542373, 0.5       ],\n",
       "       [0.58333333, 0.5       , 0.59322034, 0.58333333],\n",
       "       [0.36111111, 0.29166667, 0.54237288, 0.5       ],\n",
       "       [0.58333333, 0.33333333, 0.77966102, 0.875     ],\n",
       "       [0.5       , 0.33333333, 0.50847458, 0.5       ],\n",
       "       [0.72222222, 0.45833333, 0.66101695, 0.58333333],\n",
       "       [0.66666667, 0.41666667, 0.71186441, 0.91666667],\n",
       "       [0.52777778, 0.33333333, 0.6440678 , 0.70833333],\n",
       "       [0.61111111, 0.41666667, 0.81355932, 0.875     ],\n",
       "       [0.77777778, 0.41666667, 0.83050847, 0.83333333],\n",
       "       [0.27777778, 0.70833333, 0.08474576, 0.04166667],\n",
       "       [0.41666667, 0.83333333, 0.03389831, 0.04166667],\n",
       "       [0.5       , 0.375     , 0.62711864, 0.54166667],\n",
       "       [0.69444444, 0.33333333, 0.6440678 , 0.54166667],\n",
       "       [0.13888889, 0.41666667, 0.06779661, 0.08333333],\n",
       "       [0.08333333, 0.58333333, 0.06779661, 0.08333333],\n",
       "       [0.55555556, 0.375     , 0.77966102, 0.70833333],\n",
       "       [0.22222222, 0.58333333, 0.08474576, 0.04166667],\n",
       "       [0.36111111, 0.20833333, 0.49152542, 0.41666667],\n",
       "       [0.41666667, 0.29166667, 0.69491525, 0.75      ],\n",
       "       [0.41666667, 0.25      , 0.50847458, 0.45833333],\n",
       "       [0.61111111, 0.41666667, 0.76271186, 0.70833333],\n",
       "       [0.19444444, 0.5       , 0.03389831, 0.04166667],\n",
       "       [0.08333333, 0.5       , 0.06779661, 0.04166667],\n",
       "       [0.25      , 0.875     , 0.08474576, 0.        ],\n",
       "       [0.25      , 0.625     , 0.08474576, 0.04166667],\n",
       "       [0.13888889, 0.58333333, 0.10169492, 0.04166667],\n",
       "       [0.19444444, 0.125     , 0.38983051, 0.375     ],\n",
       "       [0.66666667, 0.45833333, 0.77966102, 0.95833333],\n",
       "       [0.55555556, 0.54166667, 0.84745763, 1.        ],\n",
       "       [0.44444444, 0.41666667, 0.54237288, 0.58333333],\n",
       "       [0.33333333, 0.91666667, 0.06779661, 0.04166667],\n",
       "       [0.22222222, 0.75      , 0.10169492, 0.04166667],\n",
       "       [0.80555556, 0.66666667, 0.86440678, 1.        ],\n",
       "       [0.55555556, 0.29166667, 0.66101695, 0.70833333],\n",
       "       [0.94444444, 0.25      , 1.        , 0.91666667],\n",
       "       [0.22222222, 0.54166667, 0.11864407, 0.16666667],\n",
       "       [0.13888889, 0.45833333, 0.10169492, 0.04166667],\n",
       "       [0.25      , 0.58333333, 0.06779661, 0.04166667],\n",
       "       [0.38888889, 0.20833333, 0.6779661 , 0.79166667],\n",
       "       [0.19444444, 0.        , 0.42372881, 0.375     ],\n",
       "       [0.72222222, 0.45833333, 0.74576271, 0.83333333],\n",
       "       [0.75      , 0.5       , 0.62711864, 0.54166667],\n",
       "       [0.47222222, 0.29166667, 0.69491525, 0.625     ],\n",
       "       [0.        , 0.41666667, 0.01694915, 0.        ],\n",
       "       [0.58333333, 0.5       , 0.72881356, 0.91666667],\n",
       "       [0.33333333, 0.25      , 0.57627119, 0.45833333],\n",
       "       [0.22222222, 0.75      , 0.08474576, 0.08333333],\n",
       "       [0.22222222, 0.20833333, 0.33898305, 0.41666667],\n",
       "       [0.33333333, 0.16666667, 0.47457627, 0.41666667],\n",
       "       [0.08333333, 0.66666667, 0.        , 0.04166667],\n",
       "       [0.47222222, 0.08333333, 0.6779661 , 0.58333333],\n",
       "       [0.47222222, 0.58333333, 0.59322034, 0.625     ],\n",
       "       [0.58333333, 0.33333333, 0.77966102, 0.83333333],\n",
       "       [0.66666667, 0.45833333, 0.62711864, 0.58333333],\n",
       "       [0.83333333, 0.375     , 0.89830508, 0.70833333],\n",
       "       [0.30555556, 0.58333333, 0.08474576, 0.125     ],\n",
       "       [0.30555556, 0.41666667, 0.59322034, 0.58333333],\n",
       "       [0.11111111, 0.5       , 0.10169492, 0.04166667],\n",
       "       [0.5       , 0.41666667, 0.66101695, 0.70833333],\n",
       "       [0.72222222, 0.45833333, 0.69491525, 0.91666667],\n",
       "       [0.33333333, 0.125     , 0.50847458, 0.5       ],\n",
       "       [0.61111111, 0.33333333, 0.61016949, 0.58333333],\n",
       "       [0.63888889, 0.41666667, 0.57627119, 0.54166667],\n",
       "       [0.22222222, 0.70833333, 0.08474576, 0.125     ],\n",
       "       [0.58333333, 0.29166667, 0.72881356, 0.75      ],\n",
       "       [1.        , 0.75      , 0.91525424, 0.79166667],\n",
       "       [0.66666667, 0.54166667, 0.79661017, 0.83333333],\n",
       "       [0.5       , 0.33333333, 0.62711864, 0.45833333],\n",
       "       [0.69444444, 0.5       , 0.83050847, 0.91666667],\n",
       "       [0.94444444, 0.41666667, 0.86440678, 0.91666667],\n",
       "       [0.13888889, 0.58333333, 0.15254237, 0.04166667],\n",
       "       [0.44444444, 0.41666667, 0.69491525, 0.70833333],\n",
       "       [0.36111111, 0.375     , 0.44067797, 0.5       ],\n",
       "       [0.86111111, 0.33333333, 0.86440678, 0.75      ],\n",
       "       [0.52777778, 0.08333333, 0.59322034, 0.58333333],\n",
       "       [0.22222222, 0.625     , 0.06779661, 0.08333333],\n",
       "       [0.11111111, 0.5       , 0.05084746, 0.04166667],\n",
       "       [0.38888889, 0.25      , 0.42372881, 0.375     ],\n",
       "       [0.19444444, 0.66666667, 0.06779661, 0.04166667],\n",
       "       [0.38888889, 0.33333333, 0.59322034, 0.5       ],\n",
       "       [0.55555556, 0.20833333, 0.66101695, 0.58333333],\n",
       "       [0.41666667, 0.29166667, 0.49152542, 0.45833333],\n",
       "       [0.19444444, 0.58333333, 0.10169492, 0.125     ],\n",
       "       [0.58333333, 0.45833333, 0.76271186, 0.70833333],\n",
       "       [0.66666667, 0.41666667, 0.6779661 , 0.66666667],\n",
       "       [0.16666667, 0.45833333, 0.08474576, 0.        ],\n",
       "       [0.36111111, 0.33333333, 0.66101695, 0.79166667],\n",
       "       [0.47222222, 0.375     , 0.59322034, 0.58333333],\n",
       "       [0.69444444, 0.41666667, 0.76271186, 0.83333333],\n",
       "       [0.66666667, 0.45833333, 0.57627119, 0.54166667],\n",
       "       [0.41666667, 0.29166667, 0.52542373, 0.375     ],\n",
       "       [0.33333333, 0.20833333, 0.50847458, 0.5       ],\n",
       "       [0.52777778, 0.58333333, 0.74576271, 0.91666667],\n",
       "       [0.22222222, 0.75      , 0.15254237, 0.125     ],\n",
       "       [0.61111111, 0.41666667, 0.71186441, 0.79166667],\n",
       "       [0.72222222, 0.5       , 0.79661017, 0.91666667],\n",
       "       [0.41666667, 0.29166667, 0.69491525, 0.75      ],\n",
       "       [0.55555556, 0.54166667, 0.62711864, 0.625     ],\n",
       "       [0.94444444, 0.75      , 0.96610169, 0.875     ],\n",
       "       [0.08333333, 0.45833333, 0.08474576, 0.04166667],\n",
       "       [0.80555556, 0.41666667, 0.81355932, 0.625     ],\n",
       "       [0.16666667, 0.41666667, 0.06779661, 0.04166667],\n",
       "       [0.22222222, 0.625     , 0.06779661, 0.04166667],\n",
       "       [0.02777778, 0.5       , 0.05084746, 0.04166667],\n",
       "       [0.19444444, 0.625     , 0.05084746, 0.08333333],\n",
       "       [0.55555556, 0.20833333, 0.6779661 , 0.75      ],\n",
       "       [0.16666667, 0.45833333, 0.08474576, 0.        ],\n",
       "       [0.16666667, 0.45833333, 0.08474576, 0.        ],\n",
       "       [0.5       , 0.25      , 0.77966102, 0.54166667],\n",
       "       [0.02777778, 0.41666667, 0.05084746, 0.04166667],\n",
       "       [0.02777778, 0.375     , 0.06779661, 0.04166667],\n",
       "       [0.63888889, 0.375     , 0.61016949, 0.5       ],\n",
       "       [0.66666667, 0.20833333, 0.81355932, 0.70833333],\n",
       "       [0.19444444, 0.54166667, 0.06779661, 0.04166667],\n",
       "       [0.47222222, 0.41666667, 0.6440678 , 0.70833333],\n",
       "       [0.38888889, 0.375     , 0.54237288, 0.5       ],\n",
       "       [0.80555556, 0.5       , 0.84745763, 0.70833333],\n",
       "       [0.30555556, 0.58333333, 0.11864407, 0.04166667],\n",
       "       [0.30555556, 0.79166667, 0.11864407, 0.125     ],\n",
       "       [0.52777778, 0.375     , 0.55932203, 0.5       ],\n",
       "       [0.61111111, 0.5       , 0.69491525, 0.79166667],\n",
       "       [0.55555556, 0.33333333, 0.69491525, 0.58333333],\n",
       "       [0.13888889, 0.41666667, 0.06779661, 0.        ],\n",
       "       [0.33333333, 0.625     , 0.05084746, 0.04166667],\n",
       "       [0.38888889, 1.        , 0.08474576, 0.125     ],\n",
       "       [0.44444444, 0.5       , 0.6440678 , 0.70833333],\n",
       "       [0.41666667, 0.33333333, 0.69491525, 0.95833333],\n",
       "       [0.16666667, 0.20833333, 0.59322034, 0.66666667]])"
      ]
     },
     "execution_count": 11,
     "metadata": {},
     "output_type": "execute_result"
    }
   ],
   "source": [
    "scaler = MinMaxScaler()\n",
    "scaler.fit(x_data)\n",
    "x_new_Data = scaler.transform(x_data)\n",
    "x_new_Data"
   ]
  },
  {
   "cell_type": "code",
   "execution_count": 12,
   "id": "12c179f6",
   "metadata": {},
   "outputs": [
    {
     "data": {
      "text/html": [
       "<div>\n",
       "<style scoped>\n",
       "    .dataframe tbody tr th:only-of-type {\n",
       "        vertical-align: middle;\n",
       "    }\n",
       "\n",
       "    .dataframe tbody tr th {\n",
       "        vertical-align: top;\n",
       "    }\n",
       "\n",
       "    .dataframe thead th {\n",
       "        text-align: right;\n",
       "    }\n",
       "</style>\n",
       "<table border=\"1\" class=\"dataframe\">\n",
       "  <thead>\n",
       "    <tr style=\"text-align: right;\">\n",
       "      <th></th>\n",
       "      <th>sepal_len</th>\n",
       "      <th>sepal_width</th>\n",
       "      <th>petal_len</th>\n",
       "      <th>petal_width</th>\n",
       "    </tr>\n",
       "  </thead>\n",
       "  <tbody>\n",
       "    <tr>\n",
       "      <th>0</th>\n",
       "      <td>0.555556</td>\n",
       "      <td>0.125000</td>\n",
       "      <td>0.576271</td>\n",
       "      <td>0.500000</td>\n",
       "    </tr>\n",
       "    <tr>\n",
       "      <th>1</th>\n",
       "      <td>0.194444</td>\n",
       "      <td>0.416667</td>\n",
       "      <td>0.101695</td>\n",
       "      <td>0.041667</td>\n",
       "    </tr>\n",
       "    <tr>\n",
       "      <th>2</th>\n",
       "      <td>0.305556</td>\n",
       "      <td>0.708333</td>\n",
       "      <td>0.084746</td>\n",
       "      <td>0.041667</td>\n",
       "    </tr>\n",
       "    <tr>\n",
       "      <th>3</th>\n",
       "      <td>0.194444</td>\n",
       "      <td>0.625000</td>\n",
       "      <td>0.101695</td>\n",
       "      <td>0.208333</td>\n",
       "    </tr>\n",
       "    <tr>\n",
       "      <th>4</th>\n",
       "      <td>0.388889</td>\n",
       "      <td>0.333333</td>\n",
       "      <td>0.525424</td>\n",
       "      <td>0.500000</td>\n",
       "    </tr>\n",
       "    <tr>\n",
       "      <th>...</th>\n",
       "      <td>...</td>\n",
       "      <td>...</td>\n",
       "      <td>...</td>\n",
       "      <td>...</td>\n",
       "    </tr>\n",
       "    <tr>\n",
       "      <th>145</th>\n",
       "      <td>0.333333</td>\n",
       "      <td>0.625000</td>\n",
       "      <td>0.050847</td>\n",
       "      <td>0.041667</td>\n",
       "    </tr>\n",
       "    <tr>\n",
       "      <th>146</th>\n",
       "      <td>0.388889</td>\n",
       "      <td>1.000000</td>\n",
       "      <td>0.084746</td>\n",
       "      <td>0.125000</td>\n",
       "    </tr>\n",
       "    <tr>\n",
       "      <th>147</th>\n",
       "      <td>0.444444</td>\n",
       "      <td>0.500000</td>\n",
       "      <td>0.644068</td>\n",
       "      <td>0.708333</td>\n",
       "    </tr>\n",
       "    <tr>\n",
       "      <th>148</th>\n",
       "      <td>0.416667</td>\n",
       "      <td>0.333333</td>\n",
       "      <td>0.694915</td>\n",
       "      <td>0.958333</td>\n",
       "    </tr>\n",
       "    <tr>\n",
       "      <th>149</th>\n",
       "      <td>0.166667</td>\n",
       "      <td>0.208333</td>\n",
       "      <td>0.593220</td>\n",
       "      <td>0.666667</td>\n",
       "    </tr>\n",
       "  </tbody>\n",
       "</table>\n",
       "<p>150 rows × 4 columns</p>\n",
       "</div>"
      ],
      "text/plain": [
       "     sepal_len  sepal_width  petal_len  petal_width\n",
       "0     0.555556     0.125000   0.576271     0.500000\n",
       "1     0.194444     0.416667   0.101695     0.041667\n",
       "2     0.305556     0.708333   0.084746     0.041667\n",
       "3     0.194444     0.625000   0.101695     0.208333\n",
       "4     0.388889     0.333333   0.525424     0.500000\n",
       "..         ...          ...        ...          ...\n",
       "145   0.333333     0.625000   0.050847     0.041667\n",
       "146   0.388889     1.000000   0.084746     0.125000\n",
       "147   0.444444     0.500000   0.644068     0.708333\n",
       "148   0.416667     0.333333   0.694915     0.958333\n",
       "149   0.166667     0.208333   0.593220     0.666667\n",
       "\n",
       "[150 rows x 4 columns]"
      ]
     },
     "execution_count": 12,
     "metadata": {},
     "output_type": "execute_result"
    }
   ],
   "source": [
    "normalize_data = pd.DataFrame(x_new_Data, columns = ['sepal_len','sepal_width','petal_len','petal_width'])\n",
    "normalize_data"
   ]
  },
  {
   "cell_type": "markdown",
   "id": "9e4c861f",
   "metadata": {},
   "source": [
    "## Visual After Noramlization"
   ]
  },
  {
   "cell_type": "code",
   "execution_count": 13,
   "id": "92c506e7",
   "metadata": {},
   "outputs": [
    {
     "data": {
      "text/plain": [
       "<AxesSubplot:xlabel='petal_width', ylabel='Density'>"
      ]
     },
     "execution_count": 13,
     "metadata": {},
     "output_type": "execute_result"
    },
    {
     "data": {
      "image/png": "[encoded data removed]",
      "text/plain": [
       "<Figure size 1080x720 with 4 Axes>"
      ]
     },
     "metadata": {
      "needs_background": "light"
     },
     "output_type": "display_data"
    }
   ],
   "source": [
    "plt.figure(figsize=(15,10))\n",
    "plt.subplot(2,2,1)\n",
    "sns.distplot(normalize_data['sepal_len'])\n",
    "plt.subplot(2,2,2)\n",
    "sns.distplot(normalize_data['sepal_width'])\n",
    "plt.subplot(2,2,3)\n",
    "sns.distplot(normalize_data['petal_len'])\n",
    "plt.subplot(2,2,4)\n",
    "sns.distplot(normalize_data['petal_width'])"
   ]
  },
  {
   "cell_type": "markdown",
   "id": "0bba0134",
   "metadata": {},
   "source": [
    "## 4. Calculate Similarity based on distance function of your choice"
   ]
  },
  {
   "cell_type": "code",
   "execution_count": 14,
   "id": "e453bbec",
   "metadata": {},
   "outputs": [
    {
     "data": {
      "text/html": [
       "<div>\n",
       "<style scoped>\n",
       "    .dataframe tbody tr th:only-of-type {\n",
       "        vertical-align: middle;\n",
       "    }\n",
       "\n",
       "    .dataframe tbody tr th {\n",
       "        vertical-align: top;\n",
       "    }\n",
       "\n",
       "    .dataframe thead th {\n",
       "        text-align: right;\n",
       "    }\n",
       "</style>\n",
       "<table border=\"1\" class=\"dataframe\">\n",
       "  <thead>\n",
       "    <tr style=\"text-align: right;\">\n",
       "      <th></th>\n",
       "      <th>sepal_len</th>\n",
       "      <th>sepal_width</th>\n",
       "      <th>petal_len</th>\n",
       "      <th>petal_width</th>\n",
       "      <th>class</th>\n",
       "      <th>seq</th>\n",
       "    </tr>\n",
       "  </thead>\n",
       "  <tbody>\n",
       "    <tr>\n",
       "      <th>0</th>\n",
       "      <td>5.9</td>\n",
       "      <td>3.0</td>\n",
       "      <td>4.2</td>\n",
       "      <td>1.5</td>\n",
       "      <td>Iris-versicolor</td>\n",
       "      <td>0</td>\n",
       "    </tr>\n",
       "    <tr>\n",
       "      <th>1</th>\n",
       "      <td>5.0</td>\n",
       "      <td>3.5</td>\n",
       "      <td>1.6</td>\n",
       "      <td>0.6</td>\n",
       "      <td>Iris-setosa</td>\n",
       "      <td>1</td>\n",
       "    </tr>\n",
       "    <tr>\n",
       "      <th>2</th>\n",
       "      <td>5.0</td>\n",
       "      <td>3.0</td>\n",
       "      <td>1.6</td>\n",
       "      <td>0.2</td>\n",
       "      <td>Iris-setosa</td>\n",
       "      <td>2</td>\n",
       "    </tr>\n",
       "    <tr>\n",
       "      <th>3</th>\n",
       "      <td>5.5</td>\n",
       "      <td>2.5</td>\n",
       "      <td>4.0</td>\n",
       "      <td>1.3</td>\n",
       "      <td>Iris-versicolor</td>\n",
       "      <td>3</td>\n",
       "    </tr>\n",
       "    <tr>\n",
       "      <th>4</th>\n",
       "      <td>6.7</td>\n",
       "      <td>3.3</td>\n",
       "      <td>5.7</td>\n",
       "      <td>2.5</td>\n",
       "      <td>Iris-virginica</td>\n",
       "      <td>4</td>\n",
       "    </tr>\n",
       "  </tbody>\n",
       "</table>\n",
       "</div>"
      ],
      "text/plain": [
       "   sepal_len  sepal_width  petal_len  petal_width            class  seq\n",
       "0        5.9          3.0        4.2          1.5  Iris-versicolor    0\n",
       "1        5.0          3.5        1.6          0.6      Iris-setosa    1\n",
       "2        5.0          3.0        1.6          0.2      Iris-setosa    2\n",
       "3        5.5          2.5        4.0          1.3  Iris-versicolor    3\n",
       "4        6.7          3.3        5.7          2.5   Iris-virginica    4"
      ]
     },
     "execution_count": 14,
     "metadata": {},
     "output_type": "execute_result"
    }
   ],
   "source": [
    "data = data.sample(frac=1).reset_index(drop=True)\n",
    "data['seq'] = data.index\n",
    "data.head()"
   ]
  },
  {
   "cell_type": "code",
   "execution_count": 15,
   "id": "6cc94f34",
   "metadata": {},
   "outputs": [],
   "source": [
    "dev_size = int(data.shape[0]*0.80)\n",
    "test_size = int(data.shape[0]*0.20)\n",
    "\n",
    "dev = data[:dev_size]\n",
    "\n",
    "test = data[test_size:]"
   ]
  },
  {
   "cell_type": "markdown",
   "id": "e1f852b7",
   "metadata": {},
   "source": [
    "### The steps involved in kNN are\n",
    "\n",
    "- Calculate k nearest neighbors for every test data point using a distance metric\n",
    "- Elect the most dominant class among the nearest neighbors\n",
    "- In order to determine the best hyperparameters i.e. distance metric and k value, we need to first measure their performance on the development dataset. This gives us insight about which hyperparameter fit this dataset well\n",
    "\n",
    "- K values\n",
    "- We experiment with the following values of k - [1,3,5,7]\n",
    "\n",
    "Distance metrics\n",
    "For this dataset, we have used the following distance metrics\n",
    "\n",
    "1. Euclidian distance"
   ]
  },
  {
   "cell_type": "code",
   "execution_count": 16,
   "id": "815a3acf",
   "metadata": {},
   "outputs": [],
   "source": [
    "def get_euclidean(row1, row2):\n",
    "    return math.sqrt(sum([(x1-x2)**2 for x1,x2 in zip(row1,row2)]))"
   ]
  },
  {
   "cell_type": "code",
   "execution_count": 17,
   "id": "77876850",
   "metadata": {},
   "outputs": [],
   "source": [
    "def get_cosine_sim(row1, row2):\n",
    "    return math.acos(\n",
    "        sum([x1*x2 for x1,x2 in zip(row1,row2)])/(sum([i**2 for i in row1]) * sum([i**2 for i in row2]))\n",
    "    )"
   ]
  },
  {
   "cell_type": "markdown",
   "id": "06c2517b",
   "metadata": {},
   "source": [
    " Normalized Euclidean distance"
   ]
  },
  {
   "cell_type": "code",
   "execution_count": 18,
   "id": "ac4692bc",
   "metadata": {},
   "outputs": [],
   "source": [
    "ndev = pd.DataFrame(columns=['sepal_len', 'sepal_width','petal_len','petal_width', 'class', 'seq'])\n",
    "\n",
    "ndev['class'] = dev['class'].copy()\n",
    "ndev['seq'] = dev['seq'].copy()\n",
    "\n",
    "ndev['sepal_len'] = dev['sepal_len'].apply(\n",
    "    lambda x: (x-dev['sepal_len'].min())/(dev['sepal_len'].max()-dev['sepal_len'].min()))\n",
    "\n",
    "ndev['sepal_width'] = dev['sepal_width'].apply(\n",
    "    lambda x: (x-dev['sepal_width'].min())/(dev['sepal_width'].max()-dev['sepal_width'].min()))\n",
    "\n",
    "ndev['petal_len'] = dev['petal_len'].apply(\n",
    "    lambda x: (x-dev['petal_len'].min())/(dev['petal_len'].max()-dev['petal_len'].min()))\n",
    "\n",
    "ndev['petal_width'] = dev['petal_width'].apply(\n",
    "    lambda x: (x-dev['petal_width'].min())/(dev['petal_width'].max()-dev['petal_width'].min())) "
   ]
  },
  {
   "cell_type": "markdown",
   "id": "ff97dcc5",
   "metadata": {},
   "source": [
    "## Calculate Distances\n",
    "Distance between every point in the dataset and every other point is calculated by using the Euclidean, Cosine similariy, and Normalized Euclidean."
   ]
  },
  {
   "cell_type": "code",
   "execution_count": 19,
   "id": "60cc31bc",
   "metadata": {},
   "outputs": [],
   "source": [
    "dev2 = dev.values\n",
    "ndev2 = ndev.values\n",
    "eud = []\n",
    "cosine_sim = []\n",
    "neud = []\n",
    "l = len(dev2)\n",
    "for i in range(l):\n",
    "    eu_distance = []\n",
    "    cos_sim = []\n",
    "    neu_distance = []\n",
    "    for j in range(l):\n",
    "        if(i!=j):\n",
    "            index = dev2[j][5]\n",
    "            nindex = ndev2[j][5]\n",
    "            ed = get_euclidean(dev2[i][:-2], dev2[j][:-2])\n",
    "            cs = get_cosine_sim(dev2[i][:-2], dev2[j][:-2])\n",
    "            neu = get_euclidean(ndev2[i][:-2], ndev2[j][:-2])\n",
    "            \n",
    "            eu_distance.append((ed, index))\n",
    "            cos_sim.append((cs, index))\n",
    "            neu_distance.append((neu, nindex))\n",
    "            \n",
    "    eu_distance.sort(key= lambda x: x[0])\n",
    "    cos_sim.sort(key= lambda x: x[0])\n",
    "    neu_distance.sort(key= lambda x: x[0])\n",
    "    \n",
    "    eu_distance = [i[1] for i in eu_distance]\n",
    "    cos_sim = [i[1] for i in cos_sim]\n",
    "    neu_distance = [i[1] for i in neu_distance]\n",
    "    \n",
    "    eud.append(eu_distance)\n",
    "    cosine_sim.append(cos_sim)\n",
    "    neud.append(neu_distance)\n",
    "    \n",
    "\n",
    "dev['euclidean'] = eud\n",
    "dev['cosine_sim'] = cosine_sim\n",
    "dev['n_euclidean'] = neud"
   ]
  },
  {
   "cell_type": "markdown",
   "id": "0d066b92",
   "metadata": {},
   "source": [
    "# 5. Define a function to return k- nearest neighbors"
   ]
  },
  {
   "cell_type": "markdown",
   "id": "672b2f93",
   "metadata": {},
   "source": [
    "k closest neighbors are selected for every point in the test set."
   ]
  },
  {
   "cell_type": "code",
   "execution_count": 20,
   "id": "ada3512e",
   "metadata": {},
   "outputs": [],
   "source": [
    "def get_nearest(row, distance_measure,k):\n",
    "    return row[distance_measure][:k]"
   ]
  },
  {
   "cell_type": "raw",
   "id": "184f366c",
   "metadata": {},
   "source": [
    "Elect the dominant class\n",
    "Among the K nearest neighbors, the dominant class is elected and the data point is classified to belong to this class."
   ]
  },
  {
   "cell_type": "code",
   "execution_count": 21,
   "id": "dd0f5e4e",
   "metadata": {},
   "outputs": [],
   "source": [
    "def get_dominant_class(df, neighbors):\n",
    "    classes = df[df['seq'].isin(neighbors)]['class']\n",
    "    return classes.value_counts().index[0]"
   ]
  },
  {
   "cell_type": "code",
   "execution_count": 22,
   "id": "d23565c7",
   "metadata": {},
   "outputs": [],
   "source": [
    "k = 1\n",
    "hyper_params = []\n",
    "acc = {1: {}, 3:{}, 5:{}, 7:{}}\n",
    "\n",
    "while k <= 7:\n",
    "    dev['eud_{}'.format(k)] = dev.apply(lambda x: get_nearest(x, 'euclidean',k), axis=1)\n",
    "    dev['cosim_{}'.format(k)] = dev.apply(lambda x: get_nearest(x, 'cosine_sim',k), axis=1)\n",
    "    dev['neud_{}'.format(k)] = dev.apply(lambda x: get_nearest(x, 'n_euclidean',k), axis=1)\n",
    "    \n",
    "    dev['eud_{}_class'.format(k)] = dev['eud_{}'.format(k)].apply(lambda row: get_dominant_class(dev, row))\n",
    "    dev['cosim_{}_class'.format(k)] = dev['cosim_{}'.format(k)].apply(lambda row: get_dominant_class(dev, row))\n",
    "    dev['neud_{}_class'.format(k)] = dev['neud_{}'.format(k)].apply(lambda row: get_dominant_class(dev, row))\n",
    "    \n",
    "    hyper_params.append('eud_{}_class'.format(k))\n",
    "    hyper_params.append('cosim_{}_class'.format(k))\n",
    "    hyper_params.append('neud_{}_class'.format(k))\n",
    "    \n",
    "    acc[k]['eud'] = dev[dev['class']==dev['eud_{}_class'.format(k)]].shape[0]/dev.shape[0]\n",
    "    acc[k]['cosine'] = dev[dev['class']==dev['cosim_{}_class'.format(k)]].shape[0]/dev.shape[0]\n",
    "    acc[k]['neud'] = dev[dev['class']==dev['neud_{}_class'.format(k)]].shape[0]/dev.shape[0]\n",
    "    \n",
    "    k+=2"
   ]
  },
  {
   "cell_type": "markdown",
   "id": "3f8a7436",
   "metadata": {},
   "source": [
    "### Observe various hyper parameters"
   ]
  },
  {
   "cell_type": "code",
   "execution_count": 23,
   "id": "a897a1d5",
   "metadata": {},
   "outputs": [
    {
     "data": {
      "text/html": [
       "<div>\n",
       "<style scoped>\n",
       "    .dataframe tbody tr th:only-of-type {\n",
       "        vertical-align: middle;\n",
       "    }\n",
       "\n",
       "    .dataframe tbody tr th {\n",
       "        vertical-align: top;\n",
       "    }\n",
       "\n",
       "    .dataframe thead th {\n",
       "        text-align: right;\n",
       "    }\n",
       "</style>\n",
       "<table border=\"1\" class=\"dataframe\">\n",
       "  <thead>\n",
       "    <tr style=\"text-align: right;\">\n",
       "      <th></th>\n",
       "      <th>class</th>\n",
       "      <th>eud_1_class</th>\n",
       "      <th>cosim_1_class</th>\n",
       "      <th>neud_1_class</th>\n",
       "      <th>eud_3_class</th>\n",
       "      <th>cosim_3_class</th>\n",
       "      <th>neud_3_class</th>\n",
       "      <th>eud_5_class</th>\n",
       "      <th>cosim_5_class</th>\n",
       "      <th>neud_5_class</th>\n",
       "      <th>eud_7_class</th>\n",
       "      <th>cosim_7_class</th>\n",
       "      <th>neud_7_class</th>\n",
       "    </tr>\n",
       "  </thead>\n",
       "  <tbody>\n",
       "    <tr>\n",
       "      <th>0</th>\n",
       "      <td>Iris-versicolor</td>\n",
       "      <td>Iris-versicolor</td>\n",
       "      <td>Iris-setosa</td>\n",
       "      <td>Iris-versicolor</td>\n",
       "      <td>Iris-versicolor</td>\n",
       "      <td>Iris-setosa</td>\n",
       "      <td>Iris-versicolor</td>\n",
       "      <td>Iris-versicolor</td>\n",
       "      <td>Iris-setosa</td>\n",
       "      <td>Iris-versicolor</td>\n",
       "      <td>Iris-versicolor</td>\n",
       "      <td>Iris-setosa</td>\n",
       "      <td>Iris-versicolor</td>\n",
       "    </tr>\n",
       "    <tr>\n",
       "      <th>1</th>\n",
       "      <td>Iris-setosa</td>\n",
       "      <td>Iris-setosa</td>\n",
       "      <td>Iris-setosa</td>\n",
       "      <td>Iris-setosa</td>\n",
       "      <td>Iris-setosa</td>\n",
       "      <td>Iris-setosa</td>\n",
       "      <td>Iris-setosa</td>\n",
       "      <td>Iris-setosa</td>\n",
       "      <td>Iris-setosa</td>\n",
       "      <td>Iris-setosa</td>\n",
       "      <td>Iris-setosa</td>\n",
       "      <td>Iris-setosa</td>\n",
       "      <td>Iris-setosa</td>\n",
       "    </tr>\n",
       "    <tr>\n",
       "      <th>2</th>\n",
       "      <td>Iris-setosa</td>\n",
       "      <td>Iris-setosa</td>\n",
       "      <td>Iris-setosa</td>\n",
       "      <td>Iris-setosa</td>\n",
       "      <td>Iris-setosa</td>\n",
       "      <td>Iris-setosa</td>\n",
       "      <td>Iris-setosa</td>\n",
       "      <td>Iris-setosa</td>\n",
       "      <td>Iris-setosa</td>\n",
       "      <td>Iris-setosa</td>\n",
       "      <td>Iris-setosa</td>\n",
       "      <td>Iris-setosa</td>\n",
       "      <td>Iris-setosa</td>\n",
       "    </tr>\n",
       "    <tr>\n",
       "      <th>3</th>\n",
       "      <td>Iris-versicolor</td>\n",
       "      <td>Iris-versicolor</td>\n",
       "      <td>Iris-setosa</td>\n",
       "      <td>Iris-versicolor</td>\n",
       "      <td>Iris-versicolor</td>\n",
       "      <td>Iris-setosa</td>\n",
       "      <td>Iris-versicolor</td>\n",
       "      <td>Iris-versicolor</td>\n",
       "      <td>Iris-setosa</td>\n",
       "      <td>Iris-versicolor</td>\n",
       "      <td>Iris-versicolor</td>\n",
       "      <td>Iris-setosa</td>\n",
       "      <td>Iris-versicolor</td>\n",
       "    </tr>\n",
       "    <tr>\n",
       "      <th>4</th>\n",
       "      <td>Iris-virginica</td>\n",
       "      <td>Iris-virginica</td>\n",
       "      <td>Iris-setosa</td>\n",
       "      <td>Iris-virginica</td>\n",
       "      <td>Iris-virginica</td>\n",
       "      <td>Iris-setosa</td>\n",
       "      <td>Iris-virginica</td>\n",
       "      <td>Iris-virginica</td>\n",
       "      <td>Iris-setosa</td>\n",
       "      <td>Iris-virginica</td>\n",
       "      <td>Iris-virginica</td>\n",
       "      <td>Iris-setosa</td>\n",
       "      <td>Iris-virginica</td>\n",
       "    </tr>\n",
       "  </tbody>\n",
       "</table>\n",
       "</div>"
      ],
      "text/plain": [
       "             class      eud_1_class cosim_1_class     neud_1_class  \\\n",
       "0  Iris-versicolor  Iris-versicolor   Iris-setosa  Iris-versicolor   \n",
       "1      Iris-setosa      Iris-setosa   Iris-setosa      Iris-setosa   \n",
       "2      Iris-setosa      Iris-setosa   Iris-setosa      Iris-setosa   \n",
       "3  Iris-versicolor  Iris-versicolor   Iris-setosa  Iris-versicolor   \n",
       "4   Iris-virginica   Iris-virginica   Iris-setosa   Iris-virginica   \n",
       "\n",
       "       eud_3_class cosim_3_class     neud_3_class      eud_5_class  \\\n",
       "0  Iris-versicolor   Iris-setosa  Iris-versicolor  Iris-versicolor   \n",
       "1      Iris-setosa   Iris-setosa      Iris-setosa      Iris-setosa   \n",
       "2      Iris-setosa   Iris-setosa      Iris-setosa      Iris-setosa   \n",
       "3  Iris-versicolor   Iris-setosa  Iris-versicolor  Iris-versicolor   \n",
       "4   Iris-virginica   Iris-setosa   Iris-virginica   Iris-virginica   \n",
       "\n",
       "  cosim_5_class     neud_5_class      eud_7_class cosim_7_class  \\\n",
       "0   Iris-setosa  Iris-versicolor  Iris-versicolor   Iris-setosa   \n",
       "1   Iris-setosa      Iris-setosa      Iris-setosa   Iris-setosa   \n",
       "2   Iris-setosa      Iris-setosa      Iris-setosa   Iris-setosa   \n",
       "3   Iris-setosa  Iris-versicolor  Iris-versicolor   Iris-setosa   \n",
       "4   Iris-setosa   Iris-virginica   Iris-virginica   Iris-setosa   \n",
       "\n",
       "      neud_7_class  \n",
       "0  Iris-versicolor  \n",
       "1      Iris-setosa  \n",
       "2      Iris-setosa  \n",
       "3  Iris-versicolor  \n",
       "4   Iris-virginica  "
      ]
     },
     "execution_count": 23,
     "metadata": {},
     "output_type": "execute_result"
    }
   ],
   "source": [
    "cols = ['class'] + hyper_params\n",
    "dev[cols].head()"
   ]
  },
  {
   "cell_type": "code",
   "execution_count": 24,
   "id": "6e8d82bd",
   "metadata": {},
   "outputs": [
    {
     "name": "stdout",
     "output_type": "stream",
     "text": [
      "{1: {'cosine': 0.30833333333333335,\n",
      "     'eud': 0.9583333333333334,\n",
      "     'neud': 0.9583333333333334},\n",
      " 3: {'cosine': 0.30833333333333335,\n",
      "     'eud': 0.9666666666666667,\n",
      "     'neud': 0.9583333333333334},\n",
      " 5: {'cosine': 0.30833333333333335,\n",
      "     'eud': 0.9583333333333334,\n",
      "     'neud': 0.9583333333333334},\n",
      " 7: {'cosine': 0.30833333333333335,\n",
      "     'eud': 0.9666666666666667,\n",
      "     'neud': 0.9583333333333334}}\n"
     ]
    }
   ],
   "source": [
    "pprint(acc)"
   ]
  },
  {
   "cell_type": "markdown",
   "id": "896a5999",
   "metadata": {},
   "source": [
    "# Comparing accuracies at various values of K"
   ]
  },
  {
   "cell_type": "markdown",
   "id": "3b37221a",
   "metadata": {},
   "source": [
    "At this stage, we have successfully used kNN on the test set to tune our hyperparameters - k and distance metrics. The graph below shows the performance of each combination of k and distance metrics"
   ]
  },
  {
   "cell_type": "code",
   "execution_count": 25,
   "id": "8d75bf74",
   "metadata": {},
   "outputs": [
    {
     "data": {
      "image/png": "[encoded data removed]",
      "text/plain": [
       "<Figure size 1080x720 with 1 Axes>"
      ]
     },
     "metadata": {
      "needs_background": "light"
     },
     "output_type": "display_data"
    }
   ],
   "source": [
    "labels = [1,3,5,7]\n",
    "eud_acc = [acc[i]['eud'] for i in list(acc)]\n",
    "cos_acc = [acc[i]['cosine'] for i in list(acc)]\n",
    "neud_acc = [acc[i]['neud'] for i in list(acc)]\n",
    "\n",
    "width = 0.35\n",
    "x = np.arange(len(labels)) \n",
    "\n",
    "fig, ax = plt.subplots(figsize=(15,10))\n",
    "eu_bar = ax.bar(x - width/3, eud_acc, width, label='Euclidean', color='blue')\n",
    "neu_bar = ax.bar(x + width*2/3, neud_acc, width, label='Normalized Euclidean', color='green')\n",
    "cosine_bar = ax.bar(x + width/3, cos_acc, width, label='Cosine Similarity', color='orange')\n",
    "\n",
    "ax.set_ylabel('Accuracy')\n",
    "ax.set_ylim(0,1.2)\n",
    "ax.set_title('Accuracies by K and distance metric')\n",
    "ax.set_xlabel(\"k\")\n",
    "ax.set_xticks(x)\n",
    "ax.set_xticklabels(labels)\n",
    "ax.legend(loc='best')\n",
    "plt.show()"
   ]
  },
  {
   "cell_type": "markdown",
   "id": "78f057fb",
   "metadata": {},
   "source": [
    "## Determine optimal hyper-parameters\n",
    "\n",
    "As it can be noticed from the above chart, cosine similarity is **not** a good distance measure for this dataset regardless of the number of neighbors. **Euclidean** and **Normalized Euclidean** distance performed better on this dataset for `k = [3,5]`. so we pick 3 and ***Euclidean distance*** as best Hyper-parameters for this dataset.\n",
    "\n",
    "# Predict class of test data\n",
    "\n",
    "Here we use the optimal hyper-parameters we obtained from the above steps to predict the test data using the following steps\n",
    "\n",
    "## a. Calculate Euclidean distance\n",
    "Calculate euclidean distance between every point in the test dataset with every point in the test set and pick 3 nearest neighbors"
   ]
  },
  {
   "cell_type": "code",
   "execution_count": 26,
   "id": "250ed834",
   "metadata": {},
   "outputs": [],
   "source": [
    "test['seq'] = test.index\n",
    "test2 = test.values\n",
    "test_eud = []\n",
    "l = len(test)\n",
    "for i in range(l):\n",
    "    test_eu_distance = []\n",
    "    for j in range(len(dev)):\n",
    "        index = dev2[j][5]\n",
    "        ed = get_euclidean(test2[i][:-2], dev2[j][:-2])\n",
    "        test_eu_distance.append((ed, index))\n",
    "        \n",
    "    test_eu_distance.sort(key= lambda x: x[0])\n",
    "    test_eu_distance = [i[1] for i in test_eu_distance]\n",
    "    test_eud.append(test_eu_distance)\n",
    "    \n",
    "test['euclidean'] = test_eud"
   ]
  },
  {
   "cell_type": "markdown",
   "id": "dbce6e03",
   "metadata": {},
   "source": [
    "## b. Pick Nearest Neighbors\n",
    "\n",
    "Since we obtained 3 as optimal value for the hyperparameter `k`, we find **3** nearest neighbors between every point in the test set and every point in the dev set using ***Euclidean Distance***"
   ]
  },
  {
   "cell_type": "code",
   "execution_count": 27,
   "id": "eb4c6bc4",
   "metadata": {},
   "outputs": [
    {
     "data": {
      "text/html": [
       "<div>\n",
       "<style scoped>\n",
       "    .dataframe tbody tr th:only-of-type {\n",
       "        vertical-align: middle;\n",
       "    }\n",
       "\n",
       "    .dataframe tbody tr th {\n",
       "        vertical-align: top;\n",
       "    }\n",
       "\n",
       "    .dataframe thead th {\n",
       "        text-align: right;\n",
       "    }\n",
       "</style>\n",
       "<table border=\"1\" class=\"dataframe\">\n",
       "  <thead>\n",
       "    <tr style=\"text-align: right;\">\n",
       "      <th></th>\n",
       "      <th>sepal_len</th>\n",
       "      <th>sepal_width</th>\n",
       "      <th>petal_len</th>\n",
       "      <th>petal_width</th>\n",
       "      <th>class</th>\n",
       "      <th>eu</th>\n",
       "    </tr>\n",
       "  </thead>\n",
       "  <tbody>\n",
       "    <tr>\n",
       "      <th>30</th>\n",
       "      <td>7.1</td>\n",
       "      <td>3.0</td>\n",
       "      <td>5.9</td>\n",
       "      <td>2.1</td>\n",
       "      <td>Iris-virginica</td>\n",
       "      <td>[30, 11, 55]</td>\n",
       "    </tr>\n",
       "    <tr>\n",
       "      <th>31</th>\n",
       "      <td>5.7</td>\n",
       "      <td>3.0</td>\n",
       "      <td>4.2</td>\n",
       "      <td>1.2</td>\n",
       "      <td>Iris-versicolor</td>\n",
       "      <td>[31, 19, 82]</td>\n",
       "    </tr>\n",
       "    <tr>\n",
       "      <th>32</th>\n",
       "      <td>4.7</td>\n",
       "      <td>3.2</td>\n",
       "      <td>1.6</td>\n",
       "      <td>0.2</td>\n",
       "      <td>Iris-setosa</td>\n",
       "      <td>[32, 114, 102]</td>\n",
       "    </tr>\n",
       "    <tr>\n",
       "      <th>33</th>\n",
       "      <td>6.3</td>\n",
       "      <td>2.5</td>\n",
       "      <td>4.9</td>\n",
       "      <td>1.5</td>\n",
       "      <td>Iris-versicolor</td>\n",
       "      <td>[33, 42, 62]</td>\n",
       "    </tr>\n",
       "    <tr>\n",
       "      <th>34</th>\n",
       "      <td>6.2</td>\n",
       "      <td>3.4</td>\n",
       "      <td>5.4</td>\n",
       "      <td>2.3</td>\n",
       "      <td>Iris-virginica</td>\n",
       "      <td>[34, 16, 86]</td>\n",
       "    </tr>\n",
       "  </tbody>\n",
       "</table>\n",
       "</div>"
      ],
      "text/plain": [
       "    sepal_len  sepal_width  petal_len  petal_width            class  \\\n",
       "30        7.1          3.0        5.9          2.1   Iris-virginica   \n",
       "31        5.7          3.0        4.2          1.2  Iris-versicolor   \n",
       "32        4.7          3.2        1.6          0.2      Iris-setosa   \n",
       "33        6.3          2.5        4.9          1.5  Iris-versicolor   \n",
       "34        6.2          3.4        5.4          2.3   Iris-virginica   \n",
       "\n",
       "                eu  \n",
       "30    [30, 11, 55]  \n",
       "31    [31, 19, 82]  \n",
       "32  [32, 114, 102]  \n",
       "33    [33, 42, 62]  \n",
       "34    [34, 16, 86]  "
      ]
     },
     "execution_count": 27,
     "metadata": {},
     "output_type": "execute_result"
    }
   ],
   "source": [
    "test['eu'] = test.apply(lambda x: get_nearest(x, 'euclidean',3), axis=1)\n",
    "test[file_columns+['eu']].head()"
   ]
  },
  {
   "cell_type": "markdown",
   "id": "1ac4e68f",
   "metadata": {},
   "source": [
    "## c. Classify the test set\n",
    "\n",
    "Pick the most dominant class among ***3*** nearest neighbors"
   ]
  },
  {
   "cell_type": "code",
   "execution_count": 28,
   "id": "94d29cf1",
   "metadata": {},
   "outputs": [
    {
     "data": {
      "text/html": [
       "<div>\n",
       "<style scoped>\n",
       "    .dataframe tbody tr th:only-of-type {\n",
       "        vertical-align: middle;\n",
       "    }\n",
       "\n",
       "    .dataframe tbody tr th {\n",
       "        vertical-align: top;\n",
       "    }\n",
       "\n",
       "    .dataframe thead th {\n",
       "        text-align: right;\n",
       "    }\n",
       "</style>\n",
       "<table border=\"1\" class=\"dataframe\">\n",
       "  <thead>\n",
       "    <tr style=\"text-align: right;\">\n",
       "      <th></th>\n",
       "      <th>sepal_len</th>\n",
       "      <th>sepal_width</th>\n",
       "      <th>petal_len</th>\n",
       "      <th>petal_width</th>\n",
       "      <th>class</th>\n",
       "      <th>eu_class</th>\n",
       "    </tr>\n",
       "  </thead>\n",
       "  <tbody>\n",
       "    <tr>\n",
       "      <th>30</th>\n",
       "      <td>7.1</td>\n",
       "      <td>3.0</td>\n",
       "      <td>5.9</td>\n",
       "      <td>2.1</td>\n",
       "      <td>Iris-virginica</td>\n",
       "      <td>Iris-virginica</td>\n",
       "    </tr>\n",
       "    <tr>\n",
       "      <th>31</th>\n",
       "      <td>5.7</td>\n",
       "      <td>3.0</td>\n",
       "      <td>4.2</td>\n",
       "      <td>1.2</td>\n",
       "      <td>Iris-versicolor</td>\n",
       "      <td>Iris-versicolor</td>\n",
       "    </tr>\n",
       "    <tr>\n",
       "      <th>32</th>\n",
       "      <td>4.7</td>\n",
       "      <td>3.2</td>\n",
       "      <td>1.6</td>\n",
       "      <td>0.2</td>\n",
       "      <td>Iris-setosa</td>\n",
       "      <td>Iris-setosa</td>\n",
       "    </tr>\n",
       "    <tr>\n",
       "      <th>33</th>\n",
       "      <td>6.3</td>\n",
       "      <td>2.5</td>\n",
       "      <td>4.9</td>\n",
       "      <td>1.5</td>\n",
       "      <td>Iris-versicolor</td>\n",
       "      <td>Iris-virginica</td>\n",
       "    </tr>\n",
       "    <tr>\n",
       "      <th>34</th>\n",
       "      <td>6.2</td>\n",
       "      <td>3.4</td>\n",
       "      <td>5.4</td>\n",
       "      <td>2.3</td>\n",
       "      <td>Iris-virginica</td>\n",
       "      <td>Iris-virginica</td>\n",
       "    </tr>\n",
       "  </tbody>\n",
       "</table>\n",
       "</div>"
      ],
      "text/plain": [
       "    sepal_len  sepal_width  petal_len  petal_width            class  \\\n",
       "30        7.1          3.0        5.9          2.1   Iris-virginica   \n",
       "31        5.7          3.0        4.2          1.2  Iris-versicolor   \n",
       "32        4.7          3.2        1.6          0.2      Iris-setosa   \n",
       "33        6.3          2.5        4.9          1.5  Iris-versicolor   \n",
       "34        6.2          3.4        5.4          2.3   Iris-virginica   \n",
       "\n",
       "           eu_class  \n",
       "30   Iris-virginica  \n",
       "31  Iris-versicolor  \n",
       "32      Iris-setosa  \n",
       "33   Iris-virginica  \n",
       "34   Iris-virginica  "
      ]
     },
     "execution_count": 28,
     "metadata": {},
     "output_type": "execute_result"
    }
   ],
   "source": [
    "test['eu_class'] = test['eu'].apply(lambda row: get_dominant_class(dev, row))\n",
    "test[file_columns+['eu_class']].head()"
   ]
  },
  {
   "cell_type": "markdown",
   "id": "4b74c822",
   "metadata": {},
   "source": [
    "## d. Accuracy over test set\n",
    "accuracy of the predicted class over the test dataset"
   ]
  },
  {
   "cell_type": "code",
   "execution_count": 29,
   "id": "0716b9ff",
   "metadata": {},
   "outputs": [
    {
     "name": "stdout",
     "output_type": "stream",
     "text": [
      "Test Accuracy: 95.0000%\n"
     ]
    }
   ],
   "source": [
    "test_acc = test[test['class']==test['eu_class']].shape[0]/test.shape[0]\n",
    "print('Test Accuracy: {:2.4f}%'.format(test_acc*100))"
   ]
  },
  {
   "cell_type": "markdown",
   "id": "417e1e67",
   "metadata": {},
   "source": [
    "### 6. Test the KNN Algorithm on the test dataset\n",
    "### 7. Compare your implementation with sklearn library. Also calculate the accuracy of both methods. Bring out your inference about both methods.\n",
    "### 8. Repeat the procedure with different values of K and find the best value.\n",
    "### 9. Perform hyper-parameter tuning using K-fold Cross Validation\n",
    "### 10. Use the test set and the optimal hyper-parameters to compute the final accuracy."
   ]
  },
  {
   "cell_type": "code",
   "execution_count": 33,
   "id": "ce0a66b8",
   "metadata": {},
   "outputs": [],
   "source": [
    "array = data.values\n",
    "X = array[:,0:4]\n",
    "Y = array[:,4]\n",
    "validation_size = 0.20\n",
    "seed = 7\n",
    "X_train, X_validation, Y_train, Y_validation = model_selection.train_test_split(X, Y, test_size=validation_size, random_state=seed)\n",
    "\n",
    "seed = 7\n",
    "scoring = 'accuracy'"
   ]
  },
  {
   "cell_type": "code",
   "execution_count": 34,
   "id": "3307916d",
   "metadata": {},
   "outputs": [
    {
     "name": "stdout",
     "output_type": "stream",
     "text": [
      "Accuray at K = 1:  0.967\n"
     ]
    }
   ],
   "source": [
    "#Applying K Nearest Neighbor\n",
    "from sklearn.neighbors import KNeighborsClassifier\n",
    "knn1 = KNeighborsClassifier(n_neighbors=1)\n",
    "knn1.fit(X_train, Y_train)\n",
    "y_pred_knn = knn1.predict(X_validation)\n",
    "#Calculating the accuracy\n",
    "from sklearn import metrics\n",
    "acc_knn = round(metrics.accuracy_score(Y_validation,y_pred_knn),3)\n",
    "print(\"Accuray at K = 1: \", acc_knn)"
   ]
  },
  {
   "cell_type": "code",
   "execution_count": 35,
   "id": "ed62584f",
   "metadata": {},
   "outputs": [
    {
     "name": "stdout",
     "output_type": "stream",
     "text": [
      "Accuray at K = 2:  0.967\n"
     ]
    }
   ],
   "source": [
    "#Applying K Nearest Neighbor\n",
    "from sklearn.neighbors import KNeighborsClassifier\n",
    "knn2 = KNeighborsClassifier(n_neighbors=2)\n",
    "knn2.fit(X_train, Y_train)\n",
    "y_pred_knn = knn2.predict(X_validation)\n",
    "#Calculating the accuracy\n",
    "from sklearn import metrics\n",
    "acc_knn = round(metrics.accuracy_score(Y_validation,y_pred_knn),3)\n",
    "print(\"Accuray at K = 2: \", acc_knn)"
   ]
  },
  {
   "cell_type": "code",
   "execution_count": 36,
   "id": "7f7bd94a",
   "metadata": {},
   "outputs": [
    {
     "name": "stdout",
     "output_type": "stream",
     "text": [
      "Accuray at K = 3:  0.967\n"
     ]
    }
   ],
   "source": [
    "#Applying K Nearest Neighbor\n",
    "from sklearn.neighbors import KNeighborsClassifier\n",
    "knn3 = KNeighborsClassifier(n_neighbors=3)\n",
    "knn3.fit(X_train, Y_train)\n",
    "y_pred_knn = knn3.predict(X_validation)\n",
    "#Calculating the accuracy\n",
    "from sklearn import metrics\n",
    "acc_knn = round(metrics.accuracy_score(Y_validation,y_pred_knn),3)\n",
    "print(\"Accuray at K = 3: \", acc_knn)"
   ]
  },
  {
   "cell_type": "code",
   "execution_count": 37,
   "id": "afd47894",
   "metadata": {},
   "outputs": [
    {
     "name": "stdout",
     "output_type": "stream",
     "text": [
      "Accuray at K = 4:  0.967\n"
     ]
    }
   ],
   "source": [
    "#Applying K Nearest Neighbor\n",
    "from sklearn.neighbors import KNeighborsClassifier\n",
    "knn4 = KNeighborsClassifier(n_neighbors=4)\n",
    "knn4.fit(X_train, Y_train)\n",
    "y_pred_knn = knn4.predict(X_validation)\n",
    "#Calculating the accuracy\n",
    "from sklearn import metrics\n",
    "acc_knn = round(metrics.accuracy_score(Y_validation,y_pred_knn),3)\n",
    "print(\"Accuray at K = 4: \", acc_knn)"
   ]
  },
  {
   "cell_type": "markdown",
   "id": "6522690d",
   "metadata": {},
   "source": [
    "### As we can see accuracy of method 1 is 96.6% where as accuracy of KNN Model is 93.3%"
   ]
  },
  {
   "cell_type": "code",
   "execution_count": 38,
   "id": "1ca4b49a",
   "metadata": {},
   "outputs": [],
   "source": [
    "#Finding the optimim value of k\n",
    "k_range  = range(3,21)\n",
    "scores = []\n",
    "for k in k_range:\n",
    "    knn = KNeighborsClassifier(n_neighbors=k)\n",
    "    knn.fit(X_train, Y_train)\n",
    "    y_pred_knn = knn.predict(X_validation)\n",
    "    acc_knn = round(metrics.accuracy_score(Y_validation,y_pred_knn),3)\n",
    "    scores.append(acc_knn)"
   ]
  },
  {
   "cell_type": "code",
   "execution_count": 39,
   "id": "5fd31b79",
   "metadata": {},
   "outputs": [
    {
     "data": {
      "text/plain": [
       "[<matplotlib.lines.Line2D at 0x246bfea8a90>]"
      ]
     },
     "execution_count": 39,
     "metadata": {},
     "output_type": "execute_result"
    },
    {
     "data": {
      "image/png": "[encoded data removed]",
      "text/plain": [
       "<Figure size 432x288 with 1 Axes>"
      ]
     },
     "metadata": {
      "needs_background": "light"
     },
     "output_type": "display_data"
    }
   ],
   "source": [
    "#plotting accuracy vs k-value plot\n",
    "plt.plot(k_range,scores)"
   ]
  },
  {
   "cell_type": "code",
   "execution_count": 40,
   "id": "a5f36a15",
   "metadata": {},
   "outputs": [
    {
     "name": "stdout",
     "output_type": "stream",
     "text": [
      "KNN Accuracy: 0.933\n"
     ]
    }
   ],
   "source": [
    "#Applying K Nearest Neighbor for k=13\n",
    "from sklearn.neighbors import KNeighborsClassifier\n",
    "knn13 = KNeighborsClassifier(n_neighbors=13)\n",
    "knn13.fit(X_train, Y_train)\n",
    "y_pred_knn = knn13.predict(X_validation)\n",
    "#Calculating the accuracy\n",
    "from sklearn import metrics\n",
    "acc_knn = round(metrics.accuracy_score(Y_validation,y_pred_knn),3)\n",
    "print('KNN Accuracy: '+ str(round(acc_knn,3)))"
   ]
  },
  {
   "cell_type": "code",
   "execution_count": 41,
   "id": "a0c9b740",
   "metadata": {},
   "outputs": [
    {
     "name": "stdout",
     "output_type": "stream",
     "text": [
      "Cross Val Score : 0.974\n"
     ]
    }
   ],
   "source": [
    "#Cross Validation\n",
    "Y = data['class']\n",
    "from sklearn.model_selection import cross_val_score\n",
    "cvs_knn = cross_val_score(knn,X,Y,cv=13).mean()\n",
    "print('Cross Val Score : '+ str(round(cvs_knn,3)))"
   ]
  },
  {
   "cell_type": "code",
   "execution_count": 42,
   "id": "6c57dfc8",
   "metadata": {},
   "outputs": [],
   "source": [
    "array = data.values\n",
    "X = array[:,0:4]\n",
    "Y = array[:,4]\n",
    "validation_size = 0.20\n",
    "seed = 7\n",
    "X_train, X_validation, Y_train, Y_validation = model_selection.train_test_split(X, Y, test_size=validation_size, random_state=seed)\n",
    "\n",
    "seed = 7\n",
    "scoring = 'accuracy'"
   ]
  },
  {
   "cell_type": "code",
   "execution_count": 43,
   "id": "ed9ce983",
   "metadata": {},
   "outputs": [
    {
     "name": "stdout",
     "output_type": "stream",
     "text": [
      "Test accuracy:  0.9333333333333333\n"
     ]
    }
   ],
   "source": [
    "kfold = model_selection.KFold(n_splits=13)\n",
    "cv_results = model_selection.cross_val_score(KNeighborsClassifier(), X_train, Y_train, cv=kfold, scoring=scoring)\n",
    "\n",
    "knn = KNeighborsClassifier()\n",
    "knn.fit(X_train, Y_train)\n",
    "predictions = knn.predict(X_validation)\n",
    "print(\"Test accuracy: \",accuracy_score(Y_validation, predictions))"
   ]
  },
  {
   "cell_type": "markdown",
   "id": "cc37601d",
   "metadata": {},
   "source": [
    "### So we can see after applying cross validation the Final accuracy of the model is 93%"
   ]
  },
  {
   "cell_type": "markdown",
   "id": "c7cf6eef",
   "metadata": {},
   "source": [
    "## ------------------------XXXXXXXXXXXXX---------------End---------------xxxxxxxxx-----------------"
   ]
  },
  {
   "cell_type": "code",
   "execution_count": null,
   "id": "ba4499df",
   "metadata": {},
   "outputs": [],
   "source": []
  },
  {
   "cell_type": "code",
   "execution_count": null,
   "id": "7532f80b",
   "metadata": {},
   "outputs": [],
   "source": []
  },
  {
   "cell_type": "code",
   "execution_count": null,
   "id": "1acc9a1f",
   "metadata": {},
   "outputs": [],
   "source": []
  }
 ],
 "metadata": {
  "kernelspec": {
   "display_name": "Python 3",
   "language": "python",
   "name": "python3"
  },
  "language_info": {
   "codemirror_mode": {
    "name": "ipython",
    "version": 3
   },
   "file_extension": ".py",
   "mimetype": "text/x-python",
   "name": "python",
   "nbconvert_exporter": "python",
   "pygments_lexer": "ipython3",
   "version": "3.8.8"
  }
 },
 "nbformat": 4,
 "nbformat_minor": 5
}
